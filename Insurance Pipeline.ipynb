{
 "cells": [
  {
   "cell_type": "markdown",
   "metadata": {},
   "source": [
    "Change the words between the apostrophies to the file name for the paylocity report and the desired name of the generated report.  Be sure to include the file ending (.txt, .csv, .xslx) for the input CSV.  Be sure that the input file is in the same folder as the script's folder.  After these changes have been made, click Run All and the program should create a new csv file in the folder the script is located in.  This file should be able to be opened in Excel."
   ]
  },
  {
   "cell_type": "code",
   "execution_count": 3,
   "metadata": {},
   "outputs": [],
   "source": [
    "#Variable inputs here!  paylocity_report_csv is the initial file and output_report_file_name is the desired name of the file generated from the program.\n",
    "paylocity_report_csv = 'Insurance Scrubbed.csv'\n",
    "output_report_file_name = 'Scrubbed'\n",
    "#Alter nothing outside of this kernel."
   ]
  },
  {
   "cell_type": "markdown",
   "metadata": {},
   "source": [
    "The below code block imports libraries that are essential for this type of data manipulation.  Pandas is a library for dataframes (fancy tables) and NumPy is the mathematic backbone of any calculations done on dataframes.  Openpyxl allows for Excel manipulation in Python, Datetime is a library for calculating dates, and math is a general use library for Python."
   ]
  },
  {
   "cell_type": "code",
   "execution_count": 4,
   "metadata": {},
   "outputs": [],
   "source": [
    "import pandas as pd\n",
    "from openpyxl import load_workbook, Workbook\n",
    "from openpyxl.styles import NamedStyle, Border, Side\n",
    "from datetime import datetime, timedelta\n",
    "import math\n",
    "import numpy as np\n",
    "from openpyxl.utils.dataframe import dataframe_to_rows"
   ]
  },
  {
   "cell_type": "markdown",
   "metadata": {},
   "source": [
    "The below code block imports the CSV file into the script.  Be sure that the file ending is accurate to the new file (.txt, .csv, or .xlsx are the most likely file endings) and the file is in the same folder as the script's file."
   ]
  },
  {
   "cell_type": "code",
   "execution_count": 5,
   "metadata": {},
   "outputs": [],
   "source": [
    "initial_dataframe = pd.read_csv(paylocity_report_csv)\n",
    "format = \"%m/%d/%Y\"\n",
    "initial_time = datetime.now()"
   ]
  },
  {
   "cell_type": "markdown",
   "metadata": {},
   "source": [
    "The below block of code takes only the rows that have Vendor Name as Anthem Life and makes a new dataframe from it.  A new column of the combined first and last name in the format [Last Name, First Name] is then added for readability."
   ]
  },
  {
   "cell_type": "code",
   "execution_count": 6,
   "metadata": {},
   "outputs": [],
   "source": [
    "anthemLife_dataframe = initial_dataframe.loc[initial_dataframe['Vendor Name'] == 'Anthem Life']\n",
    "anthemLife_dataframe = anthemLife_dataframe.sort_values('Last Name')\n",
    "anthemLife_dataframe['Employee Name'] = anthemLife_dataframe['Covered Last Name'] + ', ' + anthemLife_dataframe['Covered First Name']\n",
    "pref_name_to_real_name_dict = {}\n",
    "for index,row in anthemLife_dataframe.iterrows():\n",
    "    pref_name_to_real_name_dict[row['Last Name'] + ', ' + row['Preferred/First Name']] = row['Employee Name']"
   ]
  },
  {
   "cell_type": "markdown",
   "metadata": {},
   "source": [
    "The below block of code creates a pivot table where the index is the employee and the columns are spouse/children where the values are the total number of spouse/children."
   ]
  },
  {
   "cell_type": "code",
   "execution_count": 7,
   "metadata": {},
   "outputs": [
    {
     "name": "stderr",
     "output_type": "stream",
     "text": [
      "C:\\Users\\Owen\\AppData\\Local\\Temp\\ipykernel_9972\\3103713607.py:2: SettingWithCopyWarning: \n",
      "A value is trying to be set on a copy of a slice from a DataFrame.\n",
      "Try using .loc[row_indexer,col_indexer] = value instead\n",
      "\n",
      "See the caveats in the documentation: https://pandas.pydata.org/pandas-docs/stable/user_guide/indexing.html#returning-a-view-versus-a-copy\n",
      "  spouse_child_dataframe['Preferred Name'] = spouse_child_dataframe['Last Name'] + ', ' + spouse_child_dataframe['Preferred/First Name']\n",
      "C:\\Users\\Owen\\AppData\\Local\\Temp\\ipykernel_9972\\3103713607.py:3: SettingWithCopyWarning: \n",
      "A value is trying to be set on a copy of a slice from a DataFrame.\n",
      "Try using .loc[row_indexer,col_indexer] = value instead\n",
      "\n",
      "See the caveats in the documentation: https://pandas.pydata.org/pandas-docs/stable/user_guide/indexing.html#returning-a-view-versus-a-copy\n",
      "  spouse_child_dataframe['Employee Name'] = None\n"
     ]
    }
   ],
   "source": [
    "spouse_child_dataframe = initial_dataframe.loc[initial_dataframe['Covered Relationship'] != 'Employee']\n",
    "spouse_child_dataframe['Preferred Name'] = spouse_child_dataframe['Last Name'] + ', ' + spouse_child_dataframe['Preferred/First Name']\n",
    "spouse_child_dataframe['Employee Name'] = None\n",
    "for index, row in spouse_child_dataframe.iterrows():\n",
    "    spouse_child_dataframe.at[index, 'Employee Name'] = pref_name_to_real_name_dict[row['Preferred Name']]\n",
    "pivot_spouse_child_frame = pd.pivot_table(data = spouse_child_dataframe, values = 'Covered First Name', index = 'Employee Name', columns = 'Covered Relationship', aggfunc = pd.Series.nunique).fillna(0)"
   ]
  },
  {
   "cell_type": "markdown",
   "metadata": {},
   "source": [
    "The below block of code creates a dictionary where the keys are employee names and the values are a 1 or 0 depending on if they are an executive or not."
   ]
  },
  {
   "cell_type": "code",
   "execution_count": 8,
   "metadata": {},
   "outputs": [],
   "source": [
    "exec_dict = {}\n",
    "executive_dummy_dataframe = pd.get_dummies(data = anthemLife_dataframe, columns = ['Benefit Class'])\n",
    "for index, row in executive_dummy_dataframe.iterrows():\n",
    "    if row['Benefit Class_EXECUTIVES'] == 1:\n",
    "        exec_dict[row['Employee Name']] = 1\n",
    "    else:\n",
    "        exec_dict[row['Employee Name']] = 0\n",
    "exec_count = 0\n",
    "for val in exec_dict.values():\n",
    "    if val == 1:\n",
    "        exec_count += 1\n",
    "del executive_dummy_dataframe"
   ]
  },
  {
   "cell_type": "markdown",
   "metadata": {},
   "source": [
    "The below block of code creates a dictionary where the keys are employee names and the values are their current age.  A helper function is also made to count ages in ranges of an iterable (a list of employee names) and returns two dictionaries, where one is the counts of the age ranges, and one is a list of all the employees who fall into those age ranges."
   ]
  },
  {
   "cell_type": "code",
   "execution_count": 9,
   "metadata": {},
   "outputs": [],
   "source": [
    "employee_age_dict = {}\n",
    "spouse_age_dict = {}\n",
    "#for index, row in spouse_child_dataframe.loc[spouse_child_dataframe['Covered Relationship'] == 'Spouse'].iterrows():\n",
    "#    birth_day = datetime.strptime(row['Covered Date of Birth'], format)\n",
    "#    timedelta = initial_time - birth_day\n",
    "#    spouse_age_dict[row['Employee Name']] = math.floor(timedelta.days/365)\n",
    "for index, row in anthemLife_dataframe.iterrows():\n",
    "    birth_day = datetime.strptime(row['Birth Date'], format)\n",
    "    timedelta = initial_time - birth_day\n",
    "    employee_age_dict[row['Employee Name']] = math.floor(timedelta.days/365)\n",
    "\n",
    "for key in employee_age_dict.keys():\n",
    "    spouse_age_dict[key] = employee_age_dict[key]\n",
    "\n",
    "def count_ages(iterable, employee_age_dict):\n",
    "    age_count_dict = {'0-24':0, '25-29':0,'30-34':0,'35-39':0,'40-44':0,'45-49':0,'50-54':0,'55-59':0,'60-64':0,'65-69':0}\n",
    "    age_range_dict = {'0-24':[], '25-29':[],'30-34':[],'35-39':[],'40-44':[],'45-49':[],'50-54':[],'55-59':[],'60-64':[],'65-69':[]}\n",
    "    for key in iterable:\n",
    "        if employee_age_dict[key] < 25:\n",
    "            age_count_dict['0-24'] += 1\n",
    "            age_range_dict['0-24'].append(key)\n",
    "        elif employee_age_dict[key] < 30:\n",
    "            age_count_dict['25-29'] += 1\n",
    "            age_range_dict['25-29'].append(key)\n",
    "        elif employee_age_dict[key] < 35:\n",
    "            age_count_dict['30-34'] += 1\n",
    "            age_range_dict['30-34'].append(key)\n",
    "        elif employee_age_dict[key] < 40:\n",
    "            age_count_dict['35-39'] += 1\n",
    "            age_range_dict['35-39'].append(key)\n",
    "        elif employee_age_dict[key] < 45:\n",
    "            age_count_dict['40-44'] += 1\n",
    "            age_range_dict['40-44'].append(key)\n",
    "        elif employee_age_dict[key] < 50:\n",
    "            age_count_dict['45-49'] += 1\n",
    "            age_range_dict['45-49'].append(key)\n",
    "        elif employee_age_dict[key] < 55:\n",
    "            age_count_dict['50-54'] += 1\n",
    "            age_range_dict['50-54'].append(key)\n",
    "        elif employee_age_dict[key] < 60:\n",
    "            age_count_dict['55-59'] += 1\n",
    "            age_range_dict['55-59'].append(key)\n",
    "        elif employee_age_dict[key] < 65:\n",
    "            age_count_dict['60-64'] += 1\n",
    "            age_range_dict['60-64'].append(key)\n",
    "        elif employee_age_dict[key] < 70:\n",
    "            age_count_dict['65-69'] += 1\n",
    "            age_range_dict['65-69'].append(key)\n",
    "    return age_count_dict, age_range_dict"
   ]
  },
  {
   "cell_type": "markdown",
   "metadata": {},
   "source": [
    "The below block of code creates two dataframes from the anthemLife_dataframe by pivoting the type of coverage to the column and the rates/coverages to the values.  These two dataframes are then joined on Employee name.  Flat Rate 1 Column is dropped from the dataframe and data without entries is replaced with a 0 as opposed to being N/A for calculation purposes."
   ]
  },
  {
   "cell_type": "code",
   "execution_count": 10,
   "metadata": {},
   "outputs": [],
   "source": [
    "final_columns = ['Employee Name','Long-Term Disability Coverage', 'Long-term Disability Rate', 'Short-Term Disability Coverage', 'Short-Term Disability Rate', 'Basic Life Coverage', 'Basic Life Rate','Dependent Life Coverage','Dependent Life Rate' ,'Voluntary Life Coverage', 'Voluntary Life Rate', 'Voluntary AD&D Coverage', 'Voluntary AD&D Rate', 'Voluntary Dependent Life Coverage', 'Voluntary Dependent Life Rate', 'Voluntary Dependent AD&D Coverage', 'Voluntary Dependent AD&D Rate', 'Total Rate']\n",
    "\n",
    "total_coverage_pivot_frame = pd.pivot(data = anthemLife_dataframe, index = 'Employee Name', columns = 'Benefit Plan Type', values = 'Coverage Amount').drop(['Flat Rate 1'], axis = 'columns', errors = 'ignore')\n",
    "total_coverage_pivot_frame.rename(mapper = lambda x:x + ' Coverage', axis = 'columns', inplace=True)\n",
    "\n",
    "rate_pivot_frame = pd.pivot(data = anthemLife_dataframe, index = 'Employee Name', columns = 'Benefit Plan Type', values = 'Total Cost Per Pay Period').drop(['Flat Rate 1'], axis = 'columns', errors = 'ignore')\n",
    "rate_pivot_frame.rename(mapper = lambda x:x + ' Rate', axis = 'columns', inplace=True)\n",
    "rate_pivot_frame.fillna(0, inplace= True)\n",
    "rate_pivot_frame['Total'] = rate_pivot_frame.sum(axis = 1)\n",
    "\n",
    "joined_frame = total_coverage_pivot_frame.join(other = rate_pivot_frame, on = 'Employee Name')\n",
    "joined_frame.fillna(0, inplace=True)\n",
    "joined_frame.sort_values('Employee Name', inplace = True)\n",
    "\n",
    "del total_coverage_pivot_frame\n",
    "del rate_pivot_frame"
   ]
  },
  {
   "cell_type": "markdown",
   "metadata": {},
   "source": [
    "The below block of code reorders the column names to match what the consolidated billing format is."
   ]
  },
  {
   "cell_type": "code",
   "execution_count": 11,
   "metadata": {},
   "outputs": [],
   "source": [
    "new_column_order = ['Employee Long Term Disability Insurance Coverage', \n",
    "'Employee Long Term Disability Insurance Rate',\n",
    "'Employee Short Term Disability Insurance Coverage',\n",
    "'Employee Short Term Disability Insurance Rate',\n",
    "'Employee Basic Life Insurance Coverage',\n",
    "'Employee Basic Life Insurance Rate',\n",
    "'Employer Paid Dependent Life Insurance Coverage',\n",
    "'Employer Paid Dependent Life Insurance Rate',\n",
    "'Voluntary Employee Life Insurance Coverage',\n",
    "'Voluntary Employee Life Insurance Rate',\n",
    "'Voluntary Employee AD&D Insurance Coverage',\n",
    "'Voluntary Employee AD&D Insurance Rate',\n",
    "'Child Life Insurance Coverage',\n",
    "'Child Life Insurance Rate',\n",
    "'Spouse Life Insurance Coverage',\n",
    "'Spouse Life Insurance Rate',\n",
    "'Child AD&D Insurance Coverage',\n",
    "'Child AD&D Insurance Rate',\n",
    "'Spouse AD&D Insurance Coverage',\n",
    "'Spouse AD&D Insurance Rate',\n",
    "'Total']\n",
    "joined_frame = joined_frame[new_column_order]"
   ]
  },
  {
   "cell_type": "markdown",
   "metadata": {},
   "source": [
    "The below block of code loads the template workbook and saves it as a new workbook.  This new workbook then has the dataframe uploaded into a new sheet titled \"Consolidated Billing Report\"."
   ]
  },
  {
   "cell_type": "code",
   "execution_count": 12,
   "metadata": {},
   "outputs": [],
   "source": [
    "template_workbook = load_workbook('Carrier Billing Template.xlsx')\n",
    "template_workbook.save(output_report_file_name+'.xlsx')\n",
    "current_workbook = load_workbook(output_report_file_name+'.xlsx')\n",
    "border = NamedStyle(name = \"border\")\n",
    "bd = Side(style = 'medium', color = '000000')\n",
    "border.border = Border(left = bd, right = bd, top = bd, bottom = bd)"
   ]
  },
  {
   "cell_type": "markdown",
   "metadata": {},
   "source": [
    "Importing data into spreadsheet below"
   ]
  },
  {
   "cell_type": "code",
   "execution_count": 13,
   "metadata": {},
   "outputs": [],
   "source": [
    "ws = current_workbook['Carrier Billing']\n",
    "#Uploading Long Term Disability counts for Execs and Non Execs\n",
    "ws['E7'] = exec_count\n",
    "\n",
    "exec_total_ben = 0\n",
    "non_exec_total_ben = 0\n",
    "exec_total_rate = 0\n",
    "non_exec_total_rate = 0\n",
    "for key, val in  exec_dict.items():\n",
    "    if val == 1:\n",
    "        exec_total_ben += joined_frame['Employee Long Term Disability Insurance Coverage'][key]\n",
    "        exec_total_rate += joined_frame['Employee Long Term Disability Insurance Rate'][key]\n",
    "    else:\n",
    "        non_exec_total_ben += joined_frame['Employee Long Term Disability Insurance Coverage'][key]\n",
    "        non_exec_total_rate += joined_frame['Employee Long Term Disability Insurance Rate'][key]\n",
    "ws['G7'] = exec_total_ben\n",
    "\n",
    "ws['E11'] = len(joined_frame) - exec_count\n",
    "\n",
    "ws['G11'] = non_exec_total_ben\n",
    "\n",
    "ws['M7'] = exec_total_rate\n",
    "\n",
    "ws['M11'] = non_exec_total_rate\n",
    "#Uploading Short Disability Counts and totals\n",
    "ws['E16'] = len(joined_frame)\n",
    "\n",
    "ws['G16'] = np.sum(joined_frame['Employee Short Term Disability Insurance Coverage'])\n",
    "\n",
    "ws['M16'] = np.sum(joined_frame['Employee Short Term Disability Insurance Rate'])\n",
    "#Uploading Basic Life Insurance Counts and Totals\n",
    "ws['E21'] = len(joined_frame)\n",
    "\n",
    "ws['G21'] = np.sum(joined_frame['Employee Basic Life Insurance Coverage'])\n",
    "\n",
    "ws['M21'] = np.sum(joined_frame['Employee Basic Life Insurance Rate'])\n",
    "#Uploading Voluntary Life Counts and Totals while sorting by age\n",
    "volun_life_ages, volun_life_names = count_ages(joined_frame.loc[joined_frame['Voluntary Employee Life Insurance Coverage'] != 0].index, employee_age_dict)\n",
    "for index, count in enumerate(volun_life_ages.values()):\n",
    "    ws['E'+str(32+index)] = count\n",
    "for index, names in enumerate(volun_life_names.values()):\n",
    "    total_ben = 0\n",
    "    total_rate = 0\n",
    "    for name in names:\n",
    "        total_ben += joined_frame['Voluntary Employee Life Insurance Coverage'][name]\n",
    "        total_rate += joined_frame['Voluntary Employee Life Insurance Rate'][name]\n",
    "    ws['G'+str(32+index)] = total_ben\n",
    "    ws['M'+str(32+index)] = total_rate\n",
    "#Uploading Voluntary AD&D Counts and Totals while sorting by age\n",
    "volun_add_ages, volun_add_names = count_ages(joined_frame.loc[joined_frame['Voluntary Employee AD&D Insurance Coverage'] != 0].index, employee_age_dict)\n",
    "for index, count in enumerate(volun_add_ages.values()):\n",
    "    ws['E'+str(47+index)] = count\n",
    "for index, names in enumerate(volun_add_names.values()):\n",
    "    total_ben = 0\n",
    "    total_rate = 0\n",
    "    for name in names:\n",
    "        total_ben += joined_frame['Voluntary Employee AD&D Insurance Coverage'][name]\n",
    "        total_rate += joined_frame['Voluntary Employee AD&D Insurance Rate'][name]\n",
    "    ws['G'+str(47+index)] = total_ben\n",
    "    ws['M'+str(47+index)] = total_rate\n",
    "#Uploading Child Insurance count and totals while sorting by coverage amount\n",
    "for index, coverage in enumerate(sorted(joined_frame['Child Life Insurance Coverage'].unique()[1:])):\n",
    "    ws['E'+str(90+index)] = len(joined_frame.loc[joined_frame['Child Life Insurance Coverage'] == coverage])\n",
    "    ws['G'+str(90+index)] = np.sum(joined_frame.loc[joined_frame['Child Life Insurance Coverage'] == coverage]['Child Life Insurance Coverage'])\n",
    "    ws['M'+str(90+index)] = np.sum(joined_frame.loc[joined_frame['Child Life Insurance Coverage'] == coverage]['Child Life Insurance Rate'])\n",
    "#Uploading Child AD&D insurance count and totals while sorting by coverage amount\n",
    "for index, coverage in enumerate(sorted(joined_frame['Child AD&D Insurance Coverage'].unique()[1:])):\n",
    "    ws['E'+str(98+index)] = len(joined_frame.loc[joined_frame['Child AD&D Insurance Coverage'] == coverage])\n",
    "    ws['G'+str(98+index)] = np.sum(joined_frame.loc[joined_frame['Child AD&D Insurance Coverage'] == coverage]['Child AD&D Insurance Coverage'])\n",
    "    ws['M'+str(98+index)] = np.sum(joined_frame.loc[joined_frame['Child AD&D Insurance Coverage'] == coverage]['Child AD&D Insurance Rate'])\n",
    "#Uploading the amount of dependents by child and spouse into employer paid dependent life insurance\n",
    "ws['E26'] = np.sum(pivot_spouse_child_frame['Child'])\n",
    "ws['E27'] = np.sum(pivot_spouse_child_frame['Spouse'])\n",
    "ws['M26'] = np.sum(joined_frame.loc[joined_frame['Employer Paid Dependent Life Insurance Coverage'] == 2500]['Employer Paid Dependent Life Insurance Rate'])\n",
    "ws['M27'] = np.sum(joined_frame.loc[joined_frame['Employer Paid Dependent Life Insurance Coverage'] == 5000]['Employer Paid Dependent Life Insurance Rate'])\n",
    "#Uploading Spouse Life insurance counts and totals while sorting by age\n",
    "spouse_life_ages, spouse_life_names = count_ages(joined_frame.loc[joined_frame['Spouse Life Insurance Coverage'] != 0].index, spouse_age_dict)\n",
    "for index, count in enumerate(spouse_life_ages.values()):\n",
    "    ws['E'+str(61+index)] = count\n",
    "for index, names in enumerate(spouse_life_names.values()):\n",
    "    total_ben = 0\n",
    "    total_rate = 0\n",
    "    for name in names:\n",
    "        total_ben += joined_frame['Spouse Life Insurance Coverage'][name]\n",
    "        total_rate += joined_frame['Spouse Life Insurance Rate'][name]\n",
    "    ws['G'+str(61+index)] = total_ben\n",
    "    ws['M'+str(61+index)] = total_rate\n",
    "#Uploading spouse AD&D Insurance counts and totals while sorting by age\n",
    "spouse_add_ages, spouse_add_names = count_ages(joined_frame.loc[joined_frame['Spouse AD&D Insurance Coverage'] != 0].index, spouse_age_dict)\n",
    "for index, count in enumerate(spouse_add_ages.values()):\n",
    "    ws['E'+str(76+index)] = count\n",
    "for index, names in enumerate(spouse_add_names.values()):\n",
    "    total_ben = 0\n",
    "    total_rate = 0\n",
    "    for name in names:\n",
    "        total_ben += joined_frame['Spouse AD&D Insurance Coverage'][name]\n",
    "        total_rate += joined_frame['Spouse AD&D Insurance Rate'][name]\n",
    "    ws['G'+str(76+index)] = total_ben\n",
    "    ws['M'+str(76+index)] = total_rate\n",
    "#Saving the data uploaded above into a Excel workbook under the inputted file name\n",
    "\n",
    "ws = current_workbook['Consolidated Billing Report']\n",
    "\n",
    "ws['A'+str(len(joined_frame)+8)] = str(len(joined_frame)) + ' Active Employees'\n",
    "\n",
    "alphabet = [(chr(ord('a')+i)).upper() for i in range(2,22,2)]\n",
    "alphabet.append('V')\n",
    "\n",
    "for letter in alphabet:\n",
    "    ws[letter + str(len(joined_frame)+8)] = '=SUM({letter}8:{letter}{length})'.format(letter = letter, length = str(len(joined_frame)+7))\n",
    "\n",
    "for row in ws.iter_rows(min_row=7, min_col = 0, max_row = len(joined_frame)+7, max_col = 22):\n",
    "    for cell in row:\n",
    "        cell.style = border\n",
    "\n",
    "current_workbook.save(output_report_file_name+'.xlsx')"
   ]
  },
  {
   "cell_type": "code",
   "execution_count": 14,
   "metadata": {},
   "outputs": [],
   "source": [
    "#Using a context manager, the data frame is uploaded into the same workbook under a seperate sheet\n",
    "with pd.ExcelWriter(output_report_file_name + '.xlsx', mode = 'a', engine = 'openpyxl', if_sheet_exists='overlay') as writer:\n",
    "        joined_frame.to_excel(writer, sheet_name = 'Consolidated Billing Report', startrow = 6)"
   ]
  }
 ],
 "metadata": {
  "kernelspec": {
   "display_name": "Python 3.10.6 64-bit (windows store)",
   "language": "python",
   "name": "python3"
  },
  "language_info": {
   "codemirror_mode": {
    "name": "ipython",
    "version": 3
   },
   "file_extension": ".py",
   "mimetype": "text/x-python",
   "name": "python",
   "nbconvert_exporter": "python",
   "pygments_lexer": "ipython3",
   "version": "3.10.6"
  },
  "orig_nbformat": 4,
  "vscode": {
   "interpreter": {
    "hash": "0d85463877ee836de3147891ecd6d2a2a03492952f31c859b0e418925fc8f64e"
   }
  }
 },
 "nbformat": 4,
 "nbformat_minor": 2
}
